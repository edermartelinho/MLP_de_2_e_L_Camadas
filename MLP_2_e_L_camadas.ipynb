{
  "nbformat": 4,
  "nbformat_minor": 0,
  "metadata": {
    "colab": {
      "provenance": [],
      "include_colab_link": true
    },
    "kernelspec": {
      "name": "python3",
      "display_name": "Python 3"
    },
    "language_info": {
      "name": "python"
    }
  },
  "cells": [
    {
      "cell_type": "markdown",
      "metadata": {
        "id": "view-in-github",
        "colab_type": "text"
      },
      "source": [
        "<a href=\"https://colab.research.google.com/github/edermartelinho/MLP_de_2_e_L_Camadas/blob/main/MLP_2_e_L_camadas.ipynb\" target=\"_parent\"><img src=\"https://colab.research.google.com/assets/colab-badge.svg\" alt=\"Open In Colab\"/></a>"
      ]
    },
    {
      "cell_type": "markdown",
      "source": [
        "# **Aprendizado Profundo\n",
        "#Tema: MLP de 2 e $L$ camadas.\n",
        "\n",
        "## Objetivos - integração de módulos.\n",
        "\n",
        "\n",
        "\n",
        "\n",
        "\n",
        "\n",
        "\n",
        "\n",
        "\n",
        "\n"
      ],
      "metadata": {
        "id": "54iArSqzQQx5"
      }
    },
    {
      "cell_type": "markdown",
      "source": [
        "### Importando bibliotecas"
      ],
      "metadata": {
        "id": "oqYHkv-MP5oB"
      }
    },
    {
      "cell_type": "code",
      "execution_count": null,
      "metadata": {
        "id": "a6rFWJ5tP8Ib",
        "collapsed": true
      },
      "outputs": [],
      "source": [
        "import matplotlib.pyplot as plt\n",
        "import numpy as np\n",
        "# import matplotlib.pyplot as plt\n",
        "from sklearn.model_selection import train_test_split\n",
        "import h5py\n",
        "import scipy\n",
        "import os\n",
        "from PIL import Image #biblioteca PIL (Python Imaging Library)\n",
        "from scipy import ndimage\n",
        "import time\n",
        "\n",
        "%matplotlib inline\n",
        "plt.rcParams['figure.figsize'] = (5.0, 4.0) # set default size of plots\n",
        "plt.rcParams['image.interpolation'] = 'nearest'\n",
        "plt.rcParams['image.cmap'] = 'gray'\n",
        "%load_ext autoreload\n",
        "%autoreload 2\n",
        "np.random.seed(1)"
      ]
    },
    {
      "cell_type": "code",
      "source": [
        "import numpy as np\n",
        "import matplotlib.pyplot as plt\n",
        "import h5py\n",
        "\n",
        "\n",
        "def sigmoid(Z):\n",
        "    \"\"\"\n",
        "    Implements the sigmoid activation in numpy\n",
        "\n",
        "    Arguments:\n",
        "    Z -- numpy array of any shape\n",
        "\n",
        "    Returns:\n",
        "    A -- output of sigmoid(z), same shape as Z\n",
        "    cache -- returns Z as well, useful during backpropagation\n",
        "    \"\"\"\n",
        "\n",
        "    A = 1/(1+np.exp(-Z))\n",
        "    cache = Z\n",
        "\n",
        "    return A, cache\n",
        "\n",
        "def relu(Z):\n",
        "    \"\"\"\n",
        "    Implement the RELU function.\n",
        "\n",
        "    Arguments:\n",
        "    Z -- Output of the linear layer, of any shape\n",
        "\n",
        "    Returns:\n",
        "    A -- Post-activation parameter, of the same shape as Z\n",
        "    cache -- a python dictionary containing \"A\" ; stored for computing the backward pass efficiently\n",
        "    \"\"\"\n",
        "\n",
        "    A = np.maximum(0,Z)\n",
        "\n",
        "    assert(A.shape == Z.shape)\n",
        "\n",
        "    cache = Z\n",
        "    return A, cache\n",
        "\n",
        "\n",
        "def relu_backward(dA, cache):\n",
        "    \"\"\"\n",
        "    Implement the backward propagation for a single RELU unit.\n",
        "\n",
        "    Arguments:\n",
        "    dA -- post-activation gradient, of any shape\n",
        "    cache -- 'Z' where we store for computing backward propagation efficiently\n",
        "\n",
        "    Returns:\n",
        "    dZ -- Gradient of the cost with respect to Z\n",
        "    \"\"\"\n",
        "\n",
        "    Z = cache\n",
        "    dZ = np.array(dA, copy=True) # just converting dz to a correct object.\n",
        "\n",
        "    # When z <= 0, you should set dz to 0 as well.\n",
        "    dZ[Z <= 0] = 0\n",
        "\n",
        "    assert (dZ.shape == Z.shape)\n",
        "\n",
        "    return dZ\n",
        "\n",
        "def sigmoid_backward(dA, cache):\n",
        "    \"\"\"\n",
        "    Implement the backward propagation for a single SIGMOID unit.\n",
        "\n",
        "    Arguments:\n",
        "    dA -- post-activation gradient, of any shape\n",
        "    cache -- 'Z' where we store for computing backward propagation efficiently\n",
        "\n",
        "    Returns:\n",
        "    dZ -- Gradient of the cost with respect to Z\n",
        "    \"\"\"\n",
        "\n",
        "    Z = cache\n",
        "\n",
        "    s = 1/(1+np.exp(-Z))\n",
        "    dZ = dA * s * (1-s)\n",
        "\n",
        "    assert (dZ.shape == Z.shape)\n",
        "\n",
        "    return dZ\n",
        "\n",
        "\n",
        "def load_data():\n",
        "    train_dataset = h5py.File('datasets/train_catvnoncat.h5', \"r\")\n",
        "    train_set_x_orig = np.array(train_dataset[\"train_set_x\"][:]) # your train set features\n",
        "    train_set_y_orig = np.array(train_dataset[\"train_set_y\"][:]) # your train set labels\n",
        "\n",
        "    test_dataset = h5py.File('datasets/test_catvnoncat.h5', \"r\")\n",
        "    test_set_x_orig = np.array(test_dataset[\"test_set_x\"][:]) # your test set features\n",
        "    test_set_y_orig = np.array(test_dataset[\"test_set_y\"][:]) # your test set labels\n",
        "\n",
        "    classes = np.array(test_dataset[\"list_classes\"][:]) # the list of classes\n",
        "\n",
        "    train_set_y_orig = train_set_y_orig.reshape((1, train_set_y_orig.shape[0]))\n",
        "    test_set_y_orig = test_set_y_orig.reshape((1, test_set_y_orig.shape[0]))\n",
        "\n",
        "    return train_set_x_orig, train_set_y_orig, test_set_x_orig, test_set_y_orig, classes\n",
        "\n",
        "\n",
        "def initialize_parameters(n_x, n_h, n_y):\n",
        "    \"\"\"\n",
        "    Argument:\n",
        "    n_x -- size of the input layer\n",
        "    n_h -- size of the hidden layer\n",
        "    n_y -- size of the output layer\n",
        "\n",
        "    Returns:\n",
        "    parameters -- python dictionary containing your parameters:\n",
        "                    W1 -- weight matrix of shape (n_h, n_x)\n",
        "                    b1 -- bias vector of shape (n_h, 1)\n",
        "                    W2 -- weight matrix of shape (n_y, n_h)\n",
        "                    b2 -- bias vector of shape (n_y, 1)\n",
        "    \"\"\"\n",
        "\n",
        "    np.random.seed(1)\n",
        "\n",
        "    W1 = np.random.randn(n_h, n_x)*0.01\n",
        "    b1 = np.zeros((n_h, 1))\n",
        "    W2 = np.random.randn(n_y, n_h)*0.01\n",
        "    b2 = np.zeros((n_y, 1))\n",
        "\n",
        "    assert(W1.shape == (n_h, n_x))\n",
        "    assert(b1.shape == (n_h, 1))\n",
        "    assert(W2.shape == (n_y, n_h))\n",
        "    assert(b2.shape == (n_y, 1))\n",
        "\n",
        "    parameters = {\"W1\": W1,\n",
        "                  \"b1\": b1,\n",
        "                  \"W2\": W2,\n",
        "                  \"b2\": b2}\n",
        "\n",
        "    return parameters\n",
        "\n",
        "\n",
        "def initialize_parameters_deep(layer_dims):\n",
        "    \"\"\"\n",
        "    Arguments:\n",
        "    layer_dims -- python array (list) containing the dimensions of each layer in our network\n",
        "\n",
        "    Returns:\n",
        "    parameters -- python dictionary containing your parameters \"W1\", \"b1\", ..., \"WL\", \"bL\":\n",
        "                    Wl -- weight matrix of shape (layer_dims[l], layer_dims[l-1])\n",
        "                    bl -- bias vector of shape (layer_dims[l], 1)\n",
        "    \"\"\"\n",
        "\n",
        "    np.random.seed(1)\n",
        "    parameters = {}\n",
        "    L = len(layer_dims)            # number of layers in the network\n",
        "\n",
        "    for l in range(1, L):\n",
        "        parameters['W' + str(l)] = np.random.randn(layer_dims[l], layer_dims[l-1]) / np.sqrt(layer_dims[l-1]) #*0.01\n",
        "        parameters['b' + str(l)] = np.zeros((layer_dims[l], 1))\n",
        "\n",
        "        assert(parameters['W' + str(l)].shape == (layer_dims[l], layer_dims[l-1]))\n",
        "        assert(parameters['b' + str(l)].shape == (layer_dims[l], 1))\n",
        "\n",
        "\n",
        "    return parameters\n",
        "\n",
        "def linear_forward(A, W, b):\n",
        "    \"\"\"\n",
        "    Implement the linear part of a layer's forward propagation.\n",
        "\n",
        "    Arguments:\n",
        "    A -- activations from previous layer (or input data): (size of previous layer, number of examples)\n",
        "    W -- weights matrix: numpy array of shape (size of current layer, size of previous layer)\n",
        "    b -- bias vector, numpy array of shape (size of the current layer, 1)\n",
        "\n",
        "    Returns:\n",
        "    Z -- the input of the activation function, also called pre-activation parameter\n",
        "    cache -- a python dictionary containing \"A\", \"W\" and \"b\" ; stored for computing the backward pass efficiently\n",
        "    \"\"\"\n",
        "\n",
        "    Z = W.dot(A) + b\n",
        "\n",
        "    assert(Z.shape == (W.shape[0], A.shape[1]))\n",
        "    cache = (A, W, b)\n",
        "\n",
        "    return Z, cache\n",
        "\n",
        "def linear_activation_forward(A_prev, W, b, activation):\n",
        "    \"\"\"\n",
        "    Implement the forward propagation for the LINEAR->ACTIVATION layer\n",
        "\n",
        "    Arguments:\n",
        "    A_prev -- activations from previous layer (or input data): (size of previous layer, number of examples)\n",
        "    W -- weights matrix: numpy array of shape (size of current layer, size of previous layer)\n",
        "    b -- bias vector, numpy array of shape (size of the current layer, 1)\n",
        "    activation -- the activation to be used in this layer, stored as a text string: \"sigmoid\" or \"relu\"\n",
        "\n",
        "    Returns:\n",
        "    A -- the output of the activation function, also called the post-activation value\n",
        "    cache -- a python dictionary containing \"linear_cache\" and \"activation_cache\";\n",
        "             stored for computing the backward pass efficiently\n",
        "    \"\"\"\n",
        "\n",
        "    if activation == \"sigmoid\":\n",
        "        # Inputs: \"A_prev, W, b\". Outputs: \"A, activation_cache\".\n",
        "        Z, linear_cache = linear_forward(A_prev, W, b)\n",
        "        A, activation_cache = sigmoid(Z)\n",
        "\n",
        "    elif activation == \"relu\":\n",
        "        # Inputs: \"A_prev, W, b\". Outputs: \"A, activation_cache\".\n",
        "        Z, linear_cache = linear_forward(A_prev, W, b)\n",
        "        A, activation_cache = relu(Z)\n",
        "\n",
        "    assert (A.shape == (W.shape[0], A_prev.shape[1]))\n",
        "    cache = (linear_cache, activation_cache)\n",
        "\n",
        "    return A, cache\n",
        "\n",
        "def L_model_forward(X, parameters):\n",
        "    \"\"\"\n",
        "    Implement forward propagation for the [LINEAR->RELU]*(L-1)->LINEAR->SIGMOID computation\n",
        "\n",
        "    Arguments:\n",
        "    X -- data, numpy array of shape (input size, number of examples)\n",
        "    parameters -- output of initialize_parameters_deep()\n",
        "\n",
        "    Returns:\n",
        "    AL -- last post-activation value\n",
        "    caches -- list of caches containing:\n",
        "                every cache of linear_relu_forward() (there are L-1 of them, indexed from 0 to L-2)\n",
        "                the cache of linear_sigmoid_forward() (there is one, indexed L-1)\n",
        "    \"\"\"\n",
        "\n",
        "    caches = []\n",
        "    A = X\n",
        "    L = len(parameters) // 2                  # number of layers in the neural network\n",
        "\n",
        "    # Implemeipynbnt [LINEAR -> RELU]*(L-1). Add \"cache\" to the \"caches\" list.\n",
        "    for l in range(1, L):\n",
        "        A_prev = A\n",
        "        A, cache = linear_activation_forward(A_prev, parameters['W' + str(l)], parameters['b' + str(l)], activation = \"relu\")\n",
        "        caches.append(cache)\n",
        "\n",
        "    # Implement LINEAR -> SIGMOID. Add \"cache\" to the \"caches\" list.\n",
        "    AL, cache = linear_activation_forward(A, parameters['W' + str(L)], parameters['b' + str(L)], activation = \"sigmoid\")\n",
        "    caches.append(cache)\n",
        "\n",
        "    assert(AL.shape == (1,X.shape[1]))\n",
        "\n",
        "    return AL, caches\n",
        "\n",
        "def compute_cost(AL, Y):\n",
        "    \"\"\"\n",
        "    Implement the cost function defined by equation (7).\n",
        "\n",
        "    Arguments:\n",
        "    AL -- probability vector corresponding to your label predictions, shape (1, number of examples)\n",
        "    Y -- true \"label\" vector (for example: containing 0 if non-cat, 1 if cat), shape (1, number of examples)\n",
        "\n",
        "    Returns:\n",
        "    cost -- cross-entropy cost\n",
        "    \"\"\"\n",
        "\n",
        "    m = Y.shape[1]\n",
        "\n",
        "    # Compute loss from aL and y.\n",
        "    cost = (1./m) * (-np.dot(Y,np.log(AL).T) - np.dot(1-Y, np.log(1-AL).T))\n",
        "\n",
        "    cost = np.squeeze(cost)      # To make sure your cost's shape is what we expect (e.g. this turns [[17]] into 17).\n",
        "    assert(cost.shape == ())\n",
        "\n",
        "    return cost\n",
        "\n",
        "def linear_backward(dZ, cache):\n",
        "    \"\"\"\n",
        "    Implement the linear portion of backward propagation for a single layer (layer l)\n",
        "\n",
        "    Arguments:\n",
        "    dZ -- Gradient of the cost with respect to the linear output (of current layer l)\n",
        "    cache -- tuple of values (A_prev, W, b) coming from the forward propagation in the current layer\n",
        "\n",
        "    Returns:\n",
        "    dA_prev -- Gradient of the cost with respect to the activation (of the previous layer l-1), same shape as A_prev\n",
        "    dW -- Gradient of the cost with respect to W (current layer l), same shape as W\n",
        "    db -- Gradient of the cost with respect to b (current layer l), same shape as b\n",
        "    \"\"\"\n",
        "    A_prev, W, b = cache\n",
        "    m = A_prev.shape[1]\n",
        "\n",
        "    dW = 1./m * np.dot(dZ,A_prev.T)\n",
        "    db = 1./m * np.sum(dZ, axis = 1, keepdims = True)\n",
        "    dA_prev = np.dot(W.T,dZ)\n",
        "\n",
        "    assert (dA_prev.shape == A_prev.shape)\n",
        "    assert (dW.shape == W.shape)\n",
        "    assert (db.shape == b.shape)\n",
        "\n",
        "    return dA_prev, dW, db\n",
        "\n",
        "def linear_activation_backward(dA, cache, activation):\n",
        "    \"\"\"\n",
        "    Implement the backward propagation for the LINEAR->ACTIVATION layer.\n",
        "\n",
        "    Arguments:\n",
        "    dA -- post-activation gradient for current layer l\n",
        "    cache -- tuple of values (linear_cache, activation_cache) we store for computing backward propagation efficiently\n",
        "    activation -- the activation to be used in this layer, stored as a text string: \"sigmoid\" or \"relu\"\n",
        "\n",
        "    Returns:\n",
        "    dA_prev -- Gradient of the cost with respect to the activation (of the previous layer l-1), same shape as A_prev\n",
        "    dW -- Gradient of the cost with respect to W (current layer l), same shape as W\n",
        "    db -- Gradient of the cost with respect to b (current layer l), same shape as b\n",
        "    \"\"\"\n",
        "    linear_cache, activation_cache = cache\n",
        "\n",
        "    if activation == \"relu\":\n",
        "        dZ = relu_backward(dA, activation_cache)\n",
        "        dA_prev, dW, db = linear_backward(dZ, linear_cache)\n",
        "\n",
        "    elif activation == \"sigmoid\":\n",
        "        dZ = sigmoid_backward(dA, activation_cache)\n",
        "        dA_prev, dW, db = linear_backward(dZ, linear_cache)\n",
        "\n",
        "    return dA_prev, dW, db\n",
        "\n",
        "def L_model_backward(AL, Y, caches):\n",
        "    \"\"\"\n",
        "    Implement the backward propagation for the [LINEAR->RELU] * (L-1) -> LINEAR -> SIGMOID group\n",
        "\n",
        "    Arguments:\n",
        "    AL -- probability vector, output of the forward propagation (L_model_forward())\n",
        "    Y -- true \"label\" vector (containing 0 if non-cat, 1 if cat)\n",
        "    caches -- list of caches containing:\n",
        "                every cache of linear_activation_forward() with \"relu\" (there are (L-1) or them, indexes from 0 to L-2)\n",
        "                the cache of linear_activation_forward() with \"sigmoid\" (there is one, index L-1)\n",
        "\n",
        "    Returns:\n",
        "    grads -- A dictionary with the gradients\n",
        "             grads[\"dA\" + str(l)] = ...\n",
        "             grads[\"dW\" + str(l)] = ...\n",
        "             grads[\"db\" + str(l)] = ...\n",
        "    \"\"\"\n",
        "    grads = {}\n",
        "    L = len(caches) # the number of layers\n",
        "    m = AL.shape[1]\n",
        "    Y = Y.reshape(AL.shape) # after this line, Y is the same shape as AL\n",
        "\n",
        "    # Initializing the backpropagation\n",
        "    dAL = - (np.divide(Y, AL) - np.divide(1 - Y, 1 - AL))\n",
        "\n",
        "    # Lth layer (SIGMOID -> LINEAR) gradients. Inputs: \"AL, Y, caches\". Outputs: \"grads[\"dAL\"], grads[\"dWL\"], grads[\"dbL\"]\n",
        "    current_cache = caches[L-1]\n",
        "    grads[\"dA\" + str(L-1)], grads[\"dW\" + str(L)], grads[\"db\" + str(L)] = linear_activation_backward(dAL, current_cache, activation = \"sigmoid\")\n",
        "\n",
        "    for l in reversed(range(L-1)):\n",
        "        # lth layer: (RELU -> LINEAR) gradients.\n",
        "        current_cache = caches[l]\n",
        "        dA_prev_temp, dW_temp, db_temp = linear_activation_backward(grads[\"dA\" + str(l + 1)], current_cache, activation = \"relu\")\n",
        "        grads[\"dA\" + str(l)] = dA_prev_temp\n",
        "        grads[\"dW\" + str(l + 1)] = dW_temp\n",
        "        grads[\"db\" + str(l + 1)] = db_temp\n",
        "\n",
        "    return grads\n",
        "\n",
        "def update_parameters(parameters, grads, learning_rate):\n",
        "    \"\"\"\n",
        "    Update parameters using gradient descent\n",
        "\n",
        "    Arguments:\n",
        "    parameters -- python dictionary containing your parameters\n",
        "    grads -- python dictionary containing your gradients, output of L_model_backward\n",
        "\n",
        "    Returns:\n",
        "    parameters -- python dictionary containing your updated parameters\n",
        "                  parameters[\"W\" + str(l)] = ...\n",
        "                  parameters[\"b\" + str(l)] = ...\n",
        "    \"\"\"\n",
        "\n",
        "    L = len(parameters) // 2 # number of layers in the neural network\n",
        "\n",
        "    # Update rule for each parameter. Use a for loop.\n",
        "    for l in range(L):\n",
        "        parameters[\"W\" + str(l+1)] = parameters[\"W\" + str(l+1)] - learning_rate * grads[\"dW\" + str(l+1)]\n",
        "        parameters[\"b\" + str(l+1)] = parameters[\"b\" + str(l+1)] - learning_rate * grads[\"db\" + str(l+1)]\n",
        "\n",
        "    return parameters\n",
        "\n",
        "def predict(X, y, parameters):\n",
        "    \"\"\"\n",
        "    This function is used to predict the results of a  L-layer neural network.\n",
        "\n",
        "    Arguments:\n",
        "    X -- data set of examples you would like to label\n",
        "    parameters -- parameters of the trained model\n",
        "\n",
        "    Returns:\n",
        "    p -- predictions for the given dataset X\n",
        "    \"\"\"\n",
        "\n",
        "    m = X.shape[1]\n",
        "    n = len(parameters) // 2 # number of layers in the neural network\n",
        "    p = np.zeros((1,m))\n",
        "\n",
        "    # Forward propagation\n",
        "    probas, caches = L_model_forward(X, parameters)\n",
        "\n",
        "\n",
        "    # convert probas to 0/1 predictions\n",
        "    for i in range(0, probas.shape[1]):\n",
        "        if probas[0,i] > 0.5:\n",
        "            p[0,i] = 1\n",
        "        else:\n",
        "            p[0,i] = 0\n",
        "\n",
        "    #print results\n",
        "    #print (\"predictions: \" + str(p))\n",
        "    #print (\"true labels: \" + str(y))\n",
        "    print(\"Accuracy: \"  + str(np.sum((p == y)/m)))\n",
        "\n",
        "    return p\n",
        "\n",
        "def print_mislabeled_images(classes, X, y, p):\n",
        "    \"\"\"\n",
        "    Plots images where predictions and truth were different.\n",
        "    X -- dataset\n",
        "    y -- true labels\n",
        "    p -- predictions\n",
        "    \"\"\"\n",
        "    a = p + y\n",
        "    mislabeled_indices = np.asarray(np.where(a == 1))\n",
        "    plt.rcParams['figure.figsize'] = (40.0, 40.0) # set default size of plots\n",
        "    num_images = len(mislabeled_indices[0])\n",
        "    for i in range(num_images):\n",
        "        index = mislabeled_indices[1][i]\n",
        "\n",
        "        plt.subplot(2, num_images, i + 1)\n",
        "        plt.imshow(X[:,index].reshape(64,64,3), interpolation='nearest')\n",
        "        plt.axis('off')\n",
        "        plt.title(\"Prediction: \" + classes[int(p[0,index])].decode(\"utf-8\") + \" \\n Class: \" + classes[y[0,index]].decode(\"utf-8\"))"
      ],
      "metadata": {
        "id": "pVUh9WfBocbn"
      },
      "execution_count": null,
      "outputs": []
    },
    {
      "cell_type": "markdown",
      "source": [
        "### Montando o Google Drive no Colab para ter acesso aos arquivos armazenados lá."
      ],
      "metadata": {
        "id": "JMHN9qrcP8wn"
      }
    },
    {
      "cell_type": "code",
      "source": [
        "from google.colab import drive\n",
        "drive.mount('/content/drive')"
      ],
      "metadata": {
        "colab": {
          "base_uri": "https://localhost:8080/"
        },
        "id": "CmDZUDCHP6zS",
        "outputId": "81cdd246-1d1b-4e1e-cdda-689451082587",
        "collapsed": true
      },
      "execution_count": null,
      "outputs": [
        {
          "output_type": "stream",
          "name": "stdout",
          "text": [
            "Mounted at /content/drive\n"
          ]
        }
      ]
    },
    {
      "cell_type": "markdown",
      "source": [
        "### Listar as pastas onde as imagens estão."
      ],
      "metadata": {
        "id": "xDQYyOOTQgwF"
      }
    },
    {
      "cell_type": "code",
      "source": [
        "import os\n",
        "\n",
        "diretorios = os.listdir('/content/drive/MyDrive/CatAndDog,Elefante')\n",
        "print(diretorios)\n",
        "\n",
        "\n",
        "#diretorios=os.listdir('/content/drive/MyDrive/Datasets/CatAndDog')\n",
        "#print(diretorios)"
      ],
      "metadata": {
        "colab": {
          "base_uri": "https://localhost:8080/"
        },
        "id": "CTy0HANuQhjo",
        "outputId": "6b301668-c287-481f-d058-8eaca01c1e8b"
      },
      "execution_count": null,
      "outputs": [
        {
          "output_type": "stream",
          "name": "stdout",
          "text": [
            "['Cachorro', 'Gato', 'Elefante', '.ipynb_checkpoints']\n"
          ]
        }
      ]
    },
    {
      "cell_type": "markdown",
      "source": [
        "### Definindo os caminhos (paths) das pastas onde os arquivos estão."
      ],
      "metadata": {
        "id": "IZqRV3OVyMAt"
      }
    },
    {
      "cell_type": "code",
      "source": [
        "classe_0_path = '/content/drive/MyDrive/CatAndDog,Elefante/Elefante'\n",
        "classe_1_path = '/content/drive/MyDrive/CatAndDog,Elefante/Gato'"
      ],
      "metadata": {
        "id": "Frk8q0_PyFYf"
      },
      "execution_count": null,
      "outputs": []
    },
    {
      "cell_type": "markdown",
      "source": [
        "### Função para carregar as imagens"
      ],
      "metadata": {
        "id": "5KP_vRTUMiup"
      }
    },
    {
      "cell_type": "code",
      "source": [
        "def load_images_from_folder(folder, label, image_size=(64, 64)):\n",
        "    images = []\n",
        "    labels = []\n",
        "\n",
        "    # Listar todos os arquivos no diretório\n",
        "    for filename in os.listdir(folder):\n",
        "        img_path = os.path.join(folder, filename)\n",
        "\n",
        "        # Abrir a imagem\n",
        "        img = Image.open(img_path).convert('RGB') # Garante que todas as imagens serão convertidas para RGB\n",
        "\n",
        "        # Redimensionar a imagem para o tamanho desejado (224x224)\n",
        "        img = img.resize(image_size)\n",
        "\n",
        "        # Converter para array NumPy\n",
        "        img_array = np.array(img)\n",
        "\n",
        "        # Adicionar a imagem e o rótulo à lista\n",
        "        images.append(img_array)\n",
        "        labels.append(label)\n",
        "\n",
        "    return np.array(images), np.array(labels)"
      ],
      "metadata": {
        "id": "BK-qW2C14hZg"
      },
      "execution_count": null,
      "outputs": []
    },
    {
      "cell_type": "markdown",
      "source": [
        "### Carregando as imagens de ambas as classes e os seus respectivos rótulos e conferindo as dimensões"
      ],
      "metadata": {
        "id": "IVLiu9fDyU8n"
      }
    },
    {
      "cell_type": "code",
      "source": [
        "# Carregar as imagens de ambas as classes\n",
        "images_classe_0, labels_classe_0 = load_images_from_folder(classe_0_path, label=0)\n",
        "images_classe_1, labels_classe_1 = load_images_from_folder(classe_1_path, label=1)\n",
        "\n",
        "# Concatenar as imagens e os rótulos\n",
        "images = np.concatenate((images_classe_0, images_classe_1), axis=0)\n",
        "labels = np.concatenate((labels_classe_0, labels_classe_1), axis=0)\n",
        "\n",
        "#Usando a função \"reshape\" para evitar array de rank 1. Isso evita vários problemas com vetores e matrizes e já transpõe o vetor dos rótulos.\n",
        "labels_transp=labels.reshape(1,labels.shape[0])\n",
        "\n",
        "# Verificar as dimensões dos arrays\n",
        "print(\"Formato das imagens:\", images.shape)  # (total_imagens, altura, largura, canais)\n",
        "print(\"Formato dos rótulos:\", labels_transp.shape)  # (1,total_imagens)\n"
      ],
      "metadata": {
        "id": "0T-hnZ8Xxfjw",
        "colab": {
          "base_uri": "https://localhost:8080/"
        },
        "outputId": "45516875-0b4f-40da-c960-ddbb193dc8a4"
      },
      "execution_count": null,
      "outputs": [
        {
          "output_type": "stream",
          "name": "stdout",
          "text": [
            "Formato das imagens: (290, 64, 64, 3)\n",
            "Formato dos rótulos: (1, 290)\n"
          ]
        }
      ]
    },
    {
      "cell_type": "markdown",
      "source": [
        "### Visualizando uma imagem do *dataset*\n",
        "#### (Human => index=[0,149] e Gato => index=[150,299])"
      ],
      "metadata": {
        "id": "L11WLCm96zdh"
      }
    },
    {
      "cell_type": "code",
      "source": [
        "index = 153\n",
        "plt.imshow(images[index])\n",
        "arr=labels_transp[:,index]\n",
        "valor=arr[0]\n",
        "if valor==0:\n",
        "  print (\"y = \" + str(labels_transp[:, index]) + \", isto é a imagem de um Human\")\n",
        "else:\n",
        "  print (\"y = \" + str(labels_transp[:, index]) + \", isto é a imagem de um Gato\")"
      ],
      "metadata": {
        "id": "ACPn9oH9cWtA",
        "colab": {
          "base_uri": "https://localhost:8080/",
          "height": 389
        },
        "outputId": "22f0dcc4-6859-4a76-c2b6-8d0a08472825"
      },
      "execution_count": null,
      "outputs": [
        {
          "output_type": "stream",
          "name": "stdout",
          "text": [
            "y = [1], isto é a imagem de um Gato\n"
          ]
        },
        {
          "output_type": "display_data",
          "data": {
            "text/plain": [
              "<Figure size 500x400 with 1 Axes>"
            ],
            "image/png": "[encoded data removed]"
          },
          "metadata": {}
        }
      ]
    },
    {
      "cell_type": "markdown",
      "source": [
        "### Separando o *dataset* nos subconjuntos de treinamento (train) e teste (test)."
      ],
      "metadata": {
        "id": "osAVjGsVLJG2"
      }
    },
    {
      "cell_type": "code",
      "source": [
        "#Renomeando as entradas (para X) e os rótulos (para y)\n",
        "X=images\n",
        "y=labels\n",
        "\n",
        "#Separando em subconjuntos de treinamento e teste\n",
        "X_train_orig, X_test_orig, y_train, y_test = train_test_split(\n",
        "    X, y, test_size=0.30, random_state=42, shuffle=True)\n",
        "\n"
      ],
      "metadata": {
        "id": "M2eZR-2oXZcG"
      },
      "execution_count": null,
      "outputs": []
    },
    {
      "cell_type": "code",
      "source": [
        "# Só para verificar a integridade da amostragem\n",
        "index = 4\n",
        "plt.imshow(X_train_orig[index])"
      ],
      "metadata": {
        "id": "vbn8barUwogv",
        "colab": {
          "base_uri": "https://localhost:8080/",
          "height": 389
        },
        "outputId": "50f9fa1a-619d-4c1d-933f-52a116cbfb5f"
      },
      "execution_count": null,
      "outputs": [
        {
          "output_type": "execute_result",
          "data": {
            "text/plain": [
              "<matplotlib.image.AxesImage at 0x7eb5bebc90f0>"
            ]
          },
          "metadata": {},
          "execution_count": 15
        },
        {
          "output_type": "display_data",
          "data": {
            "text/plain": [
              "<Figure size 500x400 with 1 Axes>"
            ],
            "image/png": "[encoded data removed]"
          },
          "metadata": {}
        }
      ]
    },
    {
      "cell_type": "markdown",
      "source": [
        "### Usando a função reshape para evitar problemas com rank 1 e para transpor os vetores dos rótulos"
      ],
      "metadata": {
        "id": "SdnHzSW1PaZ1"
      }
    },
    {
      "cell_type": "code",
      "source": [
        "y_train=y_train.reshape(1,y_train.shape[0])\n",
        "y_test=y_test.reshape(1,y_test.shape[0])"
      ],
      "metadata": {
        "id": "ZXZ4gnhPPstL"
      },
      "execution_count": null,
      "outputs": []
    },
    {
      "cell_type": "markdown",
      "source": [
        "### Verificando as dimensões das matrizes e vetores"
      ],
      "metadata": {
        "id": "oMyPcXWLOE1F"
      }
    },
    {
      "cell_type": "code",
      "source": [
        "#Extraindo as dimensões\n",
        "m_train = X_train_orig.shape[0]\n",
        "m_test = X_test_orig.shape[0]\n",
        "num_px = X_train_orig.shape[1]\n",
        "\n",
        "#Imprimindo os resultados para conferir as dimensões.\n",
        "print (\"Número de objetos do conjunto de treinamento: m_train = \" + str(m_train))\n",
        "print (\"Número de objetos do conjunto de teste: m_test = \" + str(m_test))\n",
        "print (\"Altura/largura de cada imagem: num_px = \" + str(num_px))\n",
        "print (\"Dimensões das imagens: (\" + str(num_px) + \", \" + str(num_px) + \", 3)\")\n",
        "print (\"X_train_orig shape: \" + str(X_train_orig.shape))\n",
        "print (\"y_train shape: \" + str(y_train.shape))\n",
        "print (\"X_test_orig shape: \" + str(X_test_orig.shape))\n",
        "print (\"y_test shape: \" + str(y_test.shape))"
      ],
      "metadata": {
        "id": "WbcXZzxUM8AJ",
        "colab": {
          "base_uri": "https://localhost:8080/"
        },
        "outputId": "5b5ab240-6082-44ff-942a-10e264abdc5a"
      },
      "execution_count": null,
      "outputs": [
        {
          "output_type": "stream",
          "name": "stdout",
          "text": [
            "Número de objetos do conjunto de treinamento: m_train = 203\n",
            "Número de objetos do conjunto de teste: m_test = 87\n",
            "Altura/largura de cada imagem: num_px = 64\n",
            "Dimensões das imagens: (64, 64, 3)\n",
            "X_train_orig shape: (203, 64, 64, 3)\n",
            "y_train shape: (1, 203)\n",
            "X_test_orig shape: (87, 64, 64, 3)\n",
            "y_test shape: (1, 87)\n"
          ]
        }
      ]
    },
    {
      "cell_type": "markdown",
      "source": [
        "### \"Achatamento\" (*flattening*) das imagens: transformar cada imagem que está em formato matricial (num_pix, num_pix, 3) em um vetor (num_pix \\* num_pix \\* 3,1). Isto deve ser feito diretamente nos tensores X_train_orig e X_test_orig."
      ],
      "metadata": {
        "id": "2WiACIRcZ3Bi"
      }
    },
    {
      "cell_type": "code",
      "source": [
        "X_train_flatten = X_train_orig.reshape(X_train_orig.shape[0], -1).T\n",
        "X_test_flatten = X_test_orig.reshape(X_test_orig.shape[0], -1).T\n",
        "print (\"X_train_flatten shape: \" + str(X_train_flatten.shape))\n",
        "print (\"y_train shape: \" + str(y_train.shape))\n",
        "print (\"X_test_flatten shape: \" + str(X_test_flatten.shape))\n",
        "print (\"y_test shape: \" + str(y_test.shape))\n",
        "#print (\"Sanity check after reshaping: \" + str(X_train_flatten[0:5,0])) #Checar essa linha\n",
        "#print(\"The first 5 values ​​of the first row of the matrix: \" + str(X_train_orig[0, 0, 0:5, 0])) #Checa os cinco primeiros pixels do canal R (0) da primeira imagem"
      ],
      "metadata": {
        "id": "H1VUGit2PAkJ",
        "colab": {
          "base_uri": "https://localhost:8080/"
        },
        "outputId": "78b0ea03-6518-4ee7-9ef6-dd7828393094"
      },
      "execution_count": null,
      "outputs": [
        {
          "output_type": "stream",
          "name": "stdout",
          "text": [
            "X_train_flatten shape: (12288, 203)\n",
            "y_train shape: (1, 203)\n",
            "X_test_flatten shape: (12288, 87)\n",
            "y_test shape: (1, 87)\n"
          ]
        }
      ]
    },
    {
      "cell_type": "markdown",
      "source": [
        "### Preprocessamento do *dataset*: apesar da normalização ser comumente utilizada em aprendizado de máquina, para imagens é suficiente dividir pelo valor máximo de cada pixel (255)."
      ],
      "metadata": {
        "id": "LdrySrfhe7es"
      }
    },
    {
      "cell_type": "code",
      "source": [
        "train_x = X_train_flatten/255\n",
        "test_x = X_test_flatten/255"
      ],
      "metadata": {
        "id": "VNt9LjHofgtK"
      },
      "execution_count": null,
      "outputs": []
    },
    {
      "cell_type": "code",
      "source": [
        "print (\"train_x's shape: \" + str(train_x.shape))\n",
        "print (\"test_x's shape: \" + str(test_x.shape))"
      ],
      "metadata": {
        "id": "tnlVFGRNJ1X5",
        "colab": {
          "base_uri": "https://localhost:8080/"
        },
        "outputId": "afde3582-cf7b-4c31-b054-9b34ea96dc4a"
      },
      "execution_count": null,
      "outputs": [
        {
          "output_type": "stream",
          "name": "stdout",
          "text": [
            "train_x's shape: (12288, 203)\n",
            "test_x's shape: (12288, 87)\n"
          ]
        }
      ]
    },
    {
      "cell_type": "markdown",
      "source": [
        "### Hiperparâmatros e constantes do modelo"
      ],
      "metadata": {
        "id": "mRqeWan5p7EH"
      }
    },
    {
      "cell_type": "code",
      "source": [
        "n_x = train_x.shape[0] # num_px * num_px * 3\n",
        "n_h = 7\n",
        "n_y = 1\n",
        "layers_dims = (n_x, n_h, n_y)\n",
        "print(n_x)"
      ],
      "metadata": {
        "id": "shAiu7_TpiMS",
        "colab": {
          "base_uri": "https://localhost:8080/"
        },
        "outputId": "6936b787-8bfd-4151-f6c8-35da948cefa8"
      },
      "execution_count": null,
      "outputs": [
        {
          "output_type": "stream",
          "name": "stdout",
          "text": [
            "12288\n"
          ]
        }
      ]
    },
    {
      "cell_type": "markdown",
      "source": [
        "### Modelo de 2 camadas"
      ],
      "metadata": {
        "id": "zLVKlGvkXqyk"
      }
    },
    {
      "cell_type": "code",
      "source": [
        "def two_layer_model(X, Y, layers_dims, learning_rate = 0.0075, num_iterations =3000, print_cost=False):\n",
        "\n",
        "    np.random.seed(1)\n",
        "    grads = {}\n",
        "    costs = [] # to keep track of the cost\n",
        "    m = X.shape[1] # number of examples\n",
        "    (n_x, n_h, n_y) = layers_dims\n",
        "\n",
        "\n",
        "    parameters = initialize_parameters(n_x, n_h, n_y)\n",
        "\n",
        "    W1 = parameters[\"W1\"]\n",
        "    b1 = parameters[\"b1\"]\n",
        "    W2 = parameters[\"W2\"]\n",
        "    b2 = parameters[\"b2\"]\n",
        "\n",
        "    #loop Gradiente Descendente\n",
        "    for i in range(0, num_iterations):\n",
        "\n",
        "        A1, cache1 = linear_activation_forward(X, W1, b1, \"relu\")\n",
        "        A2, cache2 = linear_activation_forward(A1, W2, b2, \"sigmoid\")\n",
        "\n",
        "        cost = compute_cost(A2, Y)\n",
        "\n",
        "        dA2 = - (np.divide(Y, A2) - np.divide(1 - Y, 1 - A2))\n",
        "        dA1, dW2, db2 = linear_activation_backward(dA2, cache2, \"sigmoid\")\n",
        "        dA0, dW1, db1 = linear_activation_backward(dA1, cache1, \"relu\")\n",
        "\n",
        "        grads['dW1'] = dW1\n",
        "        grads['db1'] = db1\n",
        "        grads['dW2'] = dW2\n",
        "        grads['db2'] = db2\n",
        "\n",
        "        parameters = update_parameters(parameters, grads, learning_rate)\n",
        "\n",
        "        W1 = parameters[\"W1\"]\n",
        "        b1 = parameters[\"b1\"]\n",
        "        W2 = parameters[\"W2\"]\n",
        "        b2 = parameters[\"b2\"]\n",
        "\n",
        "        # Print the cost every 100 training example\n",
        "        if print_cost and i % 100 == 0:\n",
        "            print(\"Cost after iteration {}: {}\".format(i, np.squeeze(cost)))\n",
        "        if print_cost and i % 100 == 0:\n",
        "            costs.append(cost)\n",
        "\n",
        "    # plot the cost\n",
        "    plt.plot(np.squeeze(costs))\n",
        "    plt.ylabel('cost')\n",
        "    plt.xlabel('iterations (per hundreds)')\n",
        "    plt.title(\"Learning rate =\" + str(learning_rate))\n",
        "    plt.show()\n",
        "\n",
        "    return parameters"
      ],
      "metadata": {
        "id": "kYcOnz_0qDoa"
      },
      "execution_count": null,
      "outputs": []
    },
    {
      "cell_type": "markdown",
      "source": [
        "#### Treinando o modelo"
      ],
      "metadata": {
        "id": "SbyMIw-zXyU0"
      }
    },
    {
      "cell_type": "code",
      "source": [
        "parameters = two_layer_model(train_x, y_train, layers_dims = (n_x, n_h, n_y), num_iterations = 2500, print_cost=True)"
      ],
      "metadata": {
        "id": "Ei-MrR6dsnkS",
        "colab": {
          "base_uri": "https://localhost:8080/",
          "height": 867
        },
        "outputId": "1e368de6-4d42-49dd-8c80-e626249a2347"
      },
      "execution_count": null,
      "outputs": [
        {
          "output_type": "stream",
          "name": "stdout",
          "text": [
            "Cost after iteration 0: 0.6931661908742652\n",
            "Cost after iteration 100: 0.6847644968983286\n",
            "Cost after iteration 200: 0.6357380291138953\n",
            "Cost after iteration 300: 0.5492766050243325\n",
            "Cost after iteration 400: 0.4613108836967984\n",
            "Cost after iteration 500: 0.3803425709027414\n",
            "Cost after iteration 600: 0.3070130214306668\n",
            "Cost after iteration 700: 0.3172809130851467\n",
            "Cost after iteration 800: 0.27010857967709184\n",
            "Cost after iteration 900: 0.23560178176597327\n",
            "Cost after iteration 1000: 0.15395473384215738\n",
            "Cost after iteration 1100: 0.11234313122608464\n",
            "Cost after iteration 1200: 0.09072582744995605\n",
            "Cost after iteration 1300: 0.07388326166356703\n",
            "Cost after iteration 1400: 0.06093321330511301\n",
            "Cost after iteration 1500: 0.05100303006250404\n",
            "Cost after iteration 1600: 0.043261671209967\n",
            "Cost after iteration 1700: 0.037164599537154286\n",
            "Cost after iteration 1800: 0.03228980550407385\n",
            "Cost after iteration 1900: 0.028356104416709393\n",
            "Cost after iteration 2000: 0.025124352112242884\n",
            "Cost after iteration 2100: 0.022455182881400797\n",
            "Cost after iteration 2200: 0.020217732432646247\n",
            "Cost after iteration 2300: 0.01832381617618674\n",
            "Cost after iteration 2400: 0.01671123157197724\n"
          ]
        },
        {
          "output_type": "display_data",
          "data": {
            "text/plain": [
              "<Figure size 500x400 with 1 Axes>"
            ],
            "image/png": "[encoded data removed]"
          },
          "metadata": {}
        }
      ]
    },
    {
      "cell_type": "markdown",
      "source": [
        "#### Calculando predições para o conjunto de treinamento"
      ],
      "metadata": {
        "id": "WFW9QwzfX3YD"
      }
    },
    {
      "cell_type": "code",
      "source": [
        "predictions_train = predict(train_x, y_train, parameters)"
      ],
      "metadata": {
        "id": "KDm2eVPet3ja",
        "colab": {
          "base_uri": "https://localhost:8080/"
        },
        "outputId": "05721bda-3443-4049-ad29-26b40b919090"
      },
      "execution_count": null,
      "outputs": [
        {
          "output_type": "stream",
          "name": "stdout",
          "text": [
            "Accuracy: 1.0\n"
          ]
        }
      ]
    },
    {
      "cell_type": "markdown",
      "source": [
        "#### Calculando predições para o conjunto de teste"
      ],
      "metadata": {
        "id": "x-jeVO_2X5Lt"
      }
    },
    {
      "cell_type": "code",
      "source": [
        "predictions_test = predict(test_x, y_test, parameters)"
      ],
      "metadata": {
        "id": "Mc7EWGWXvy1C",
        "colab": {
          "base_uri": "https://localhost:8080/"
        },
        "outputId": "5f32d41e-53bd-4570-cd0e-bbff03cb8e8d"
      },
      "execution_count": null,
      "outputs": [
        {
          "output_type": "stream",
          "name": "stdout",
          "text": [
            "Accuracy: 0.6781609195402298\n"
          ]
        }
      ]
    },
    {
      "cell_type": "markdown",
      "source": [
        "### Modelo de $L$ Camadas"
      ],
      "metadata": {
        "id": "e6_qjRyNX-Cn"
      }
    },
    {
      "cell_type": "markdown",
      "source": [
        "#### Definindo o número de neurônios das camadas"
      ],
      "metadata": {
        "id": "fFapLwatYDKe"
      }
    },
    {
      "cell_type": "code",
      "source": [
        "layers_dims = [train_x.shape[0], 20, 7, 5, 1] # 4-layer model"
      ],
      "metadata": {
        "id": "rrKXrTNYwcDY"
      },
      "execution_count": null,
      "outputs": []
    },
    {
      "cell_type": "markdown",
      "source": [
        "#### Integrando os módulos do modelo"
      ],
      "metadata": {
        "id": "zqVGJlRKYIba"
      }
    },
    {
      "cell_type": "code",
      "source": [
        "def L_layer_model(X, Y, layers_dims, learning_rate = 0.0075, num_iterations = 3000, print_cost=False):#lr was 0.009\n",
        "\n",
        "    np.random.seed(1)\n",
        "    costs = [] # keep track of cost\n",
        "\n",
        "    parameters = initialize_parameters_deep(layers_dims)\n",
        "\n",
        "# Loop (gradient descent)\n",
        "    for i in range(0, num_iterations):\n",
        "\n",
        "        AL, caches = L_model_forward(X, parameters)\n",
        "\n",
        "        cost = compute_cost(AL, Y)\n",
        "\n",
        "        grads = L_model_backward(AL, Y, caches)\n",
        "\n",
        "        parameters = update_parameters(parameters, grads, learning_rate)\n",
        "\n",
        "        if print_cost and i % 100 == 0:\n",
        "            print (\"Cost after iteration %i: %f\" %(i, cost))\n",
        "        if print_cost and i % 100 == 0:\n",
        "            costs.append(cost)\n",
        "# plot the cost\n",
        "    plt.plot(np.squeeze(costs))\n",
        "    plt.ylabel('cost')\n",
        "    plt.xlabel('iterations (per hundreds)')\n",
        "    plt.title(\"Learning rate =\" + str(learning_rate))\n",
        "    plt.show()\n",
        "\n",
        "    return parameters"
      ],
      "metadata": {
        "id": "TMRMyP-sv8P2"
      },
      "execution_count": null,
      "outputs": []
    },
    {
      "cell_type": "markdown",
      "source": [
        "#### Treinando o modelo"
      ],
      "metadata": {
        "id": "672BqYUJYNZb"
      }
    },
    {
      "cell_type": "code",
      "source": [
        "parameters = L_layer_model(train_x, y_train, layers_dims, num_iterations = 2500, print_cost = True)"
      ],
      "metadata": {
        "id": "jIf65WjUxER6",
        "colab": {
          "base_uri": "https://localhost:8080/",
          "height": 867
        },
        "outputId": "2c711849-ed21-4990-d25b-63a7e6360ded"
      },
      "execution_count": null,
      "outputs": [
        {
          "output_type": "stream",
          "name": "stdout",
          "text": [
            "Cost after iteration 0: 0.700576\n",
            "Cost after iteration 100: 0.526892\n",
            "Cost after iteration 200: 0.442004\n",
            "Cost after iteration 300: 0.413597\n",
            "Cost after iteration 400: 0.350587\n",
            "Cost after iteration 500: 0.298672\n",
            "Cost after iteration 600: 0.258553\n",
            "Cost after iteration 700: 0.217185\n",
            "Cost after iteration 800: 0.188612\n",
            "Cost after iteration 900: 0.166959\n",
            "Cost after iteration 1000: 0.150098\n",
            "Cost after iteration 1100: 0.136313\n",
            "Cost after iteration 1200: 0.122149\n",
            "Cost after iteration 1300: 0.111697\n",
            "Cost after iteration 1400: 0.103210\n",
            "Cost after iteration 1500: 0.094724\n",
            "Cost after iteration 1600: 0.086019\n",
            "Cost after iteration 1700: 0.079178\n",
            "Cost after iteration 1800: 0.072464\n",
            "Cost after iteration 1900: 0.067494\n",
            "Cost after iteration 2000: 0.061723\n",
            "Cost after iteration 2100: 0.058078\n",
            "Cost after iteration 2200: 0.055736\n",
            "Cost after iteration 2300: 0.050276\n",
            "Cost after iteration 2400: 0.047496\n"
          ]
        },
        {
          "output_type": "display_data",
          "data": {
            "text/plain": [
              "<Figure size 500x400 with 1 Axes>"
            ],
            "image/png": "[encoded data removed]"
          },
          "metadata": {}
        }
      ]
    },
    {
      "cell_type": "markdown",
      "source": [
        "#### Calculando acurácia para o conjunto de treinamento"
      ],
      "metadata": {
        "id": "FkcgeiDgYSNw"
      }
    },
    {
      "cell_type": "code",
      "source": [
        "pred_train = predict(train_x, y_train, parameters)"
      ],
      "metadata": {
        "id": "X4N7O5F_xJzK",
        "colab": {
          "base_uri": "https://localhost:8080/"
        },
        "outputId": "08c6e99b-b7a8-4cd9-a803-5b4ebd0cd84c"
      },
      "execution_count": null,
      "outputs": [
        {
          "output_type": "stream",
          "name": "stdout",
          "text": [
            "Accuracy: 1.0\n"
          ]
        }
      ]
    },
    {
      "cell_type": "markdown",
      "source": [
        "#### Calculando acurácia para o conjunto de teste"
      ],
      "metadata": {
        "id": "AP10mgNgYWXY"
      }
    },
    {
      "cell_type": "code",
      "source": [
        "pred_test = predict(test_x, y_test, parameters)"
      ],
      "metadata": {
        "id": "pFOtKvRExYfH",
        "colab": {
          "base_uri": "https://localhost:8080/"
        },
        "outputId": "0abc5dfc-05cc-4584-f1e2-bd7ae106e922"
      },
      "execution_count": null,
      "outputs": [
        {
          "output_type": "stream",
          "name": "stdout",
          "text": [
            "Accuracy: 0.6781609195402297\n"
          ]
        }
      ]
    }
  ]
}